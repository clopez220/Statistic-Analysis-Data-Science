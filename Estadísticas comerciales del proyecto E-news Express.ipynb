{
 "cells": [
  {
   "cell_type": "markdown",
   "id": "a5155665",
   "metadata": {
    "lang": "es"
   },
   "source": [
    "# Estadísticas comerciales del proyecto: E-news Express\n",
    "\n"
   ]
  },
  {
   "cell_type": "markdown",
   "id": "30f6669b",
   "metadata": {
    "lang": "es"
   },
   "source": [
    "## Contexto empresarial\n",
    "\n",
    "El advenimiento de los portales de noticias electrónicas nos ha ofrecido una gran oportunidad para obtener rápidamente actualizaciones sobre los eventos diarios que ocurren a nivel mundial. La información en estos portales se recupera electrónicamente de bases de datos en línea, se procesa utilizando una variedad de software y luego se transmite a los usuarios. Hay múltiples ventajas de transmitir noticias electrónicamente, como un acceso más rápido al contenido y la capacidad de utilizar diferentes tecnologías como audio, gráficos, video y otros elementos interactivos que no se utilizan o aún no son comunes en los periódicos tradicionales.\n",
    "\n",
    "E-news Express, un portal de noticias en línea, tiene como objetivo expandir su negocio mediante la adquisición de nuevos suscriptores. Dado que cada visitante del sitio web realiza ciertas acciones en función de su interés, la compañía planea analizar estas acciones para comprender los intereses de los usuarios y determinar cómo impulsar un mejor compromiso. Los ejecutivos de E-news Express opinan que ha habido una disminución en los nuevos suscriptores mensuales en comparación con el año pasado porque la página web actual no está lo suficientemente bien diseñada en términos de esquema y contenido recomendado para mantener a los clientes comprometidos el tiempo suficiente para tomar la decisión de suscribirse.\n",
    "\n",
    "[Las empresas suelen analizar las respuestas de los usuarios a dos variantes de un producto para decidir cuál de las dos variantes es más eficaz. Esta técnica experimental, conocida como prueba A/B, se utiliza para determinar si una nueva función atrae a los usuarios en función de una métrica elegida.]\n",
    "\n",
    "\n",
    "## Objetivo\n",
    "\n",
    "El equipo de diseño de la empresa investigó y creó una nueva página de destino que tiene un nuevo esquema y muestra contenido más relevante en comparación con la página anterior. Para probar la eficacia de la nueva página de destino para reunir nuevos suscriptores, el equipo de ciencia de datos realizó un experimento seleccionando al azar a 100 usuarios y dividiéndolos en dos grupos por igual. La página de destino existente se mostró al primer grupo (grupo de control) y la nueva página de destino al segundo grupo (grupo de tratamiento). Se recopilaron datos sobre la interacción de los usuarios de ambos grupos con las dos versiones de la página de destino. Como científico de datos en E-news Express, se le ha pedido que explore los datos y realice un análisis estadístico (a un nivel de significación del 5 %) para determinar la eficacia de la nueva página de destino para reunir nuevos suscriptores para el portal de noticias. respondiendo las siguientes preguntas:\n",
    "\n",
    "1. ¿Los usuarios pasan más tiempo en la nueva página de destino que en la página de destino existente?\n",
    "\n",
    "2. ¿La tasa de conversión (la proporción de usuarios que visitan la página de destino y se convierten) de la página nueva es mayor que la tasa de conversión de la página anterior?\n",
    "\n",
    "3. ¿El estado convertido depende del idioma preferido? [Sugerencia: cree una tabla de contingencia usando la función pandas.crosstab()]\n",
    "\n",
    "4. ¿El tiempo dedicado a la nueva página es el mismo para los diferentes usuarios de idiomas?\n",
    "\n",
    "\n",
    "## Diccionario de datos\n",
    "\n",
    "Los datos contienen información sobre la interacción de los usuarios de ambos grupos con las dos versiones de la página de destino.\n",
    "\n",
    "1. user_id - ID de usuario único de la persona que visita el sitio web\n",
    "\n",
    "2. grupo: si el usuario pertenece al primer grupo (control) o al segundo grupo (tratamiento)\n",
    "\n",
    "3. landing_page: si la página de destino es nueva o antigua\n",
    "\n",
    "4. tiempo_pasado_en_la_página: tiempo (en minutos) pasado por el usuario en la página de destino\n",
    "\n",
    "5. convertido: si el usuario se convierte en suscriptor del portal de noticias o no\n",
    "\n",
    "6. language_preferred: idioma elegido por el usuario para ver la página de destino"
   ]
  },
  {
   "cell_type": "markdown",
   "id": "7f4477ef",
   "metadata": {
    "lang": "es"
   },
   "source": [
    "### **Lea atentamente las instrucciones antes de iniciar el proyecto.**\n",
    "Este es un archivo comentado de Jupyter IPython Notebook en el que se mencionan todas las instrucciones y tareas a realizar.\n",
    "* Se proporcionan espacios en blanco '_______' en el cuaderno que necesita ser llenado con un código apropiado para obtener el resultado correcto. Con cada espacio en blanco '_______', hay un comentario que describe brevemente lo que debe completarse en el espacio en blanco.\n",
    "* Identifique la tarea a realizar correctamente, y solo entonces proceda a escribir el código requerido.\n",
    "* Complete el código donde se le solicite en las líneas comentadas como \"# escriba su código aquí\" o \"# complete el código\". Ejecutar código incompleto puede arrojar un error.\n",
    "* Ejecute los códigos de forma secuencial desde el principio para evitar errores innecesarios.\n",
    "* Agregar los resultados/observaciones (cuando se mencionen) derivados del análisis en la presentación y enviar los mismos. Cualquier detalle matemático o computacional que sea una parte calificada del proyecto se puede incluir en la sección Apéndice de la presentación."
   ]
  },
  {
   "cell_type": "markdown",
   "id": "b73683b0",
   "metadata": {
    "lang": "es"
   },
   "source": [
    "### Importar todas las bibliotecas necesarias"
   ]
  },
  {
   "cell_type": "code",
   "execution_count": 1,
   "id": "658c5dec",
   "metadata": {
    "id": "658c5dec"
   },
   "outputs": [],
   "source": [
    "import numpy as np\n",
    "import pandas as pd\n",
    "import matplotlib.pyplot as plt\n",
    "import seaborn as sns\n",
    "\n",
    "# Configuración de estilo para las visualizaciones\n",
    "sns.set_theme(context='notebook', style='darkgrid', palette='deep', font='sans-serif', font_scale=1, color_codes=True, rc=None)\n",
    "%matplotlib inline\n",
    "\n",
    "# Librerías para análisis estadístico\n",
    "import scipy.stats as stats"
   ]
  },
  {
   "cell_type": "code",
   "execution_count": 2,
   "id": "fb129c37",
   "metadata": {},
   "outputs": [
    {
     "data": {
      "text/plain": [
       "'1.11.1'"
      ]
     },
     "execution_count": 2,
     "metadata": {},
     "output_type": "execute_result"
    }
   ],
   "source": [
    "#version Scipy\n",
    "import scipy\n",
    "scipy.__version__"
   ]
  },
  {
   "cell_type": "markdown",
   "id": "2535ae88",
   "metadata": {
    "lang": "es"
   },
   "source": [
    "### Cargando el conjunto de datos"
   ]
  },
  {
   "cell_type": "code",
   "execution_count": 3,
   "id": "d3b95640",
   "metadata": {
    "id": "d3b95640"
   },
   "outputs": [],
   "source": [
    "# complete the code below to load the dataset\n",
    "df = pd.read_csv('H:/Cursos/Data Science/Soluciones/M2Noticias exprés/abtest.csv')"
   ]
  },
  {
   "cell_type": "markdown",
   "id": "285a0b2f",
   "metadata": {
    "lang": "es"
   },
   "source": [
    "## Explore el conjunto de datos y extraiga información mediante el análisis exploratorio de datos"
   ]
  },
  {
   "cell_type": "markdown",
   "id": "7570a20a",
   "metadata": {
    "lang": "es"
   },
   "source": [
    "### Resumen de datos"
   ]
  },
  {
   "cell_type": "markdown",
   "id": "b6841b62",
   "metadata": {
    "lang": "es"
   },
   "source": [
    "Los pasos iniciales para obtener una visión general de cualquier conjunto de datos son:\n",
    "- observe las primeras filas del conjunto de datos, para verificar si el conjunto de datos se ha cargado correctamente o no\n",
    "- obtener información sobre el número de filas y columnas en el conjunto de datos\n",
    "- Averigüe los tipos de datos de las columnas para garantizar que los datos se almacenen en el formato preferido y que el valor de cada propiedad sea el esperado.\n",
    "- verifique el resumen estadístico del conjunto de datos para obtener una descripción general de las columnas numéricas de los datos"
   ]
  },
  {
   "cell_type": "markdown",
   "id": "ef618376",
   "metadata": {
    "lang": "es"
   },
   "source": [
    "#### Mostrar las primeras filas del conjunto de datos"
   ]
  },
  {
   "cell_type": "code",
   "execution_count": 4,
   "id": "e1ad11d4",
   "metadata": {
    "id": "e1ad11d4"
   },
   "outputs": [
    {
     "data": {
      "text/html": [
       "<div>\n",
       "<style scoped>\n",
       "    .dataframe tbody tr th:only-of-type {\n",
       "        vertical-align: middle;\n",
       "    }\n",
       "\n",
       "    .dataframe tbody tr th {\n",
       "        vertical-align: top;\n",
       "    }\n",
       "\n",
       "    .dataframe thead th {\n",
       "        text-align: right;\n",
       "    }\n",
       "</style>\n",
       "<table border=\"1\" class=\"dataframe\">\n",
       "  <thead>\n",
       "    <tr style=\"text-align: right;\">\n",
       "      <th></th>\n",
       "      <th>user_id</th>\n",
       "      <th>group</th>\n",
       "      <th>landing_page</th>\n",
       "      <th>time_spent_on_the_page</th>\n",
       "      <th>converted</th>\n",
       "      <th>language_preferred</th>\n",
       "    </tr>\n",
       "  </thead>\n",
       "  <tbody>\n",
       "    <tr>\n",
       "      <th>0</th>\n",
       "      <td>546592</td>\n",
       "      <td>control</td>\n",
       "      <td>old</td>\n",
       "      <td>3.48</td>\n",
       "      <td>no</td>\n",
       "      <td>Spanish</td>\n",
       "    </tr>\n",
       "    <tr>\n",
       "      <th>1</th>\n",
       "      <td>546468</td>\n",
       "      <td>treatment</td>\n",
       "      <td>new</td>\n",
       "      <td>7.13</td>\n",
       "      <td>yes</td>\n",
       "      <td>English</td>\n",
       "    </tr>\n",
       "    <tr>\n",
       "      <th>2</th>\n",
       "      <td>546462</td>\n",
       "      <td>treatment</td>\n",
       "      <td>new</td>\n",
       "      <td>4.40</td>\n",
       "      <td>no</td>\n",
       "      <td>Spanish</td>\n",
       "    </tr>\n",
       "    <tr>\n",
       "      <th>3</th>\n",
       "      <td>546567</td>\n",
       "      <td>control</td>\n",
       "      <td>old</td>\n",
       "      <td>3.02</td>\n",
       "      <td>no</td>\n",
       "      <td>French</td>\n",
       "    </tr>\n",
       "    <tr>\n",
       "      <th>4</th>\n",
       "      <td>546459</td>\n",
       "      <td>treatment</td>\n",
       "      <td>new</td>\n",
       "      <td>4.75</td>\n",
       "      <td>yes</td>\n",
       "      <td>Spanish</td>\n",
       "    </tr>\n",
       "  </tbody>\n",
       "</table>\n",
       "</div>"
      ],
      "text/plain": [
       "   user_id      group landing_page  time_spent_on_the_page converted  \\\n",
       "0   546592    control          old                    3.48        no   \n",
       "1   546468  treatment          new                    7.13       yes   \n",
       "2   546462  treatment          new                    4.40        no   \n",
       "3   546567    control          old                    3.02        no   \n",
       "4   546459  treatment          new                    4.75       yes   \n",
       "\n",
       "  language_preferred  \n",
       "0            Spanish  \n",
       "1            English  \n",
       "2            Spanish  \n",
       "3             French  \n",
       "4            Spanish  "
      ]
     },
     "execution_count": 4,
     "metadata": {},
     "output_type": "execute_result"
    }
   ],
   "source": [
    "# Mostrar las primeras 5 filas del conjunto de datos\n",
    "df.head()"
   ]
  },
  {
   "cell_type": "markdown",
   "id": "e0ebe668",
   "metadata": {
    "lang": "es"
   },
   "source": [
    "#### Mostrar las últimas filas del conjunto de datos"
   ]
  },
  {
   "cell_type": "code",
   "execution_count": 5,
   "id": "lPgHw1UIHy8X",
   "metadata": {
    "id": "lPgHw1UIHy8X"
   },
   "outputs": [
    {
     "data": {
      "text/html": [
       "<div>\n",
       "<style scoped>\n",
       "    .dataframe tbody tr th:only-of-type {\n",
       "        vertical-align: middle;\n",
       "    }\n",
       "\n",
       "    .dataframe tbody tr th {\n",
       "        vertical-align: top;\n",
       "    }\n",
       "\n",
       "    .dataframe thead th {\n",
       "        text-align: right;\n",
       "    }\n",
       "</style>\n",
       "<table border=\"1\" class=\"dataframe\">\n",
       "  <thead>\n",
       "    <tr style=\"text-align: right;\">\n",
       "      <th></th>\n",
       "      <th>user_id</th>\n",
       "      <th>group</th>\n",
       "      <th>landing_page</th>\n",
       "      <th>time_spent_on_the_page</th>\n",
       "      <th>converted</th>\n",
       "      <th>language_preferred</th>\n",
       "    </tr>\n",
       "  </thead>\n",
       "  <tbody>\n",
       "    <tr>\n",
       "      <th>95</th>\n",
       "      <td>546446</td>\n",
       "      <td>treatment</td>\n",
       "      <td>new</td>\n",
       "      <td>5.15</td>\n",
       "      <td>no</td>\n",
       "      <td>Spanish</td>\n",
       "    </tr>\n",
       "    <tr>\n",
       "      <th>96</th>\n",
       "      <td>546544</td>\n",
       "      <td>control</td>\n",
       "      <td>old</td>\n",
       "      <td>6.52</td>\n",
       "      <td>yes</td>\n",
       "      <td>English</td>\n",
       "    </tr>\n",
       "    <tr>\n",
       "      <th>97</th>\n",
       "      <td>546472</td>\n",
       "      <td>treatment</td>\n",
       "      <td>new</td>\n",
       "      <td>7.07</td>\n",
       "      <td>yes</td>\n",
       "      <td>Spanish</td>\n",
       "    </tr>\n",
       "    <tr>\n",
       "      <th>98</th>\n",
       "      <td>546481</td>\n",
       "      <td>treatment</td>\n",
       "      <td>new</td>\n",
       "      <td>6.20</td>\n",
       "      <td>yes</td>\n",
       "      <td>Spanish</td>\n",
       "    </tr>\n",
       "    <tr>\n",
       "      <th>99</th>\n",
       "      <td>546483</td>\n",
       "      <td>treatment</td>\n",
       "      <td>new</td>\n",
       "      <td>5.86</td>\n",
       "      <td>yes</td>\n",
       "      <td>English</td>\n",
       "    </tr>\n",
       "  </tbody>\n",
       "</table>\n",
       "</div>"
      ],
      "text/plain": [
       "    user_id      group landing_page  time_spent_on_the_page converted  \\\n",
       "95   546446  treatment          new                    5.15        no   \n",
       "96   546544    control          old                    6.52       yes   \n",
       "97   546472  treatment          new                    7.07       yes   \n",
       "98   546481  treatment          new                    6.20       yes   \n",
       "99   546483  treatment          new                    5.86       yes   \n",
       "\n",
       "   language_preferred  \n",
       "95            Spanish  \n",
       "96            English  \n",
       "97            Spanish  \n",
       "98            Spanish  \n",
       "99            English  "
      ]
     },
     "execution_count": 5,
     "metadata": {},
     "output_type": "execute_result"
    }
   ],
   "source": [
    "# Mostrar las últimas 5 filas del conjunto de datos\n",
    "df.tail()"
   ]
  },
  {
   "cell_type": "markdown",
   "id": "8bb10567",
   "metadata": {
    "lang": "es"
   },
   "source": [
    "#### Comprobando la forma del conjunto de datos"
   ]
  },
  {
   "cell_type": "code",
   "execution_count": 6,
   "id": "6n1XyRa3_VMg",
   "metadata": {
    "id": "6n1XyRa3_VMg"
   },
   "outputs": [
    {
     "data": {
      "text/plain": [
       "(100, 6)"
      ]
     },
     "execution_count": 6,
     "metadata": {},
     "output_type": "execute_result"
    }
   ],
   "source": [
    "# view the shape of the dataset\n",
    "df.shape"
   ]
  },
  {
   "cell_type": "markdown",
   "id": "bd07c867",
   "metadata": {},
   "source": [
    "* hay 6 columnas y 100 filas"
   ]
  },
  {
   "cell_type": "markdown",
   "id": "f3b00150",
   "metadata": {
    "lang": "es"
   },
   "source": [
    "#### Comprobación de los tipos de datos de las columnas para el conjunto de datos"
   ]
  },
  {
   "cell_type": "code",
   "execution_count": 7,
   "id": "BeDOZQ99_mQE",
   "metadata": {
    "id": "BeDOZQ99_mQE",
    "scrolled": true
   },
   "outputs": [
    {
     "name": "stdout",
     "output_type": "stream",
     "text": [
      "<class 'pandas.core.frame.DataFrame'>\n",
      "RangeIndex: 100 entries, 0 to 99\n",
      "Data columns (total 6 columns):\n",
      " #   Column                  Non-Null Count  Dtype  \n",
      "---  ------                  --------------  -----  \n",
      " 0   user_id                 100 non-null    int64  \n",
      " 1   group                   100 non-null    object \n",
      " 2   landing_page            100 non-null    object \n",
      " 3   time_spent_on_the_page  100 non-null    float64\n",
      " 4   converted               100 non-null    object \n",
      " 5   language_preferred      100 non-null    object \n",
      "dtypes: float64(1), int64(1), object(4)\n",
      "memory usage: 4.8+ KB\n"
     ]
    }
   ],
   "source": [
    "# check the data types of the columns in the dataset\n",
    "df.info()"
   ]
  },
  {
   "cell_type": "markdown",
   "id": "d439a4bb",
   "metadata": {},
   "source": [
    "#### Comentarios:\n",
    "\n",
    "* El conjunto de datos contiene 100 filas y 6 columnas.\n",
    "* Cada columna tiene 100 entradas no nulas, lo que indica que no hay valores faltantes en el conjunto de datos.\n",
    "* 'user_id' es de tipo int64, probablemente representando identificadores únicos para los usuarios.\n",
    "* 'group' es de tipo object, probablemente indicando diferentes grupos experimentales o de control.\n",
    "* 'landing_page' también es un object, sugiriendo que contiene datos categóricos sobre las páginas de destino con las que interactuaron los usuarios.\n",
    "* 'time_spent_on_the_page' es un float64, representando el tiempo que los usuarios pasaron en la página de destino en segundos u otra unidad de tiempo.\n",
    "* 'converted' es un object, indicando si el usuario completó una acción deseada, como realizar una compra o registrarse.\n",
    "* 'language_preferred' es un object, representando el idioma preferido del usuario.\n"
   ]
  },
  {
   "cell_type": "code",
   "execution_count": 8,
   "id": "b8278b5e",
   "metadata": {},
   "outputs": [
    {
     "name": "stdout",
     "output_type": "stream",
     "text": [
      "<class 'pandas.core.frame.DataFrame'>\n",
      "RangeIndex: 100 entries, 0 to 99\n",
      "Data columns (total 6 columns):\n",
      " #   Column                  Non-Null Count  Dtype   \n",
      "---  ------                  --------------  -----   \n",
      " 0   user_id                 100 non-null    object  \n",
      " 1   group                   100 non-null    category\n",
      " 2   landing_page            100 non-null    category\n",
      " 3   time_spent_on_the_page  100 non-null    float64 \n",
      " 4   converted               100 non-null    category\n",
      " 5   language_preferred      100 non-null    category\n",
      "dtypes: category(4), float64(1), object(1)\n",
      "memory usage: 2.6+ KB\n"
     ]
    }
   ],
   "source": [
    "#Cambio los datos a categoricos o objetos para un mejor analisis\n",
    "for col in ['group', 'landing_page', 'converted', 'language_preferred']:\n",
    "    df[col] = df[col].astype('category')\n",
    "for col in ['user_id']:\n",
    "    df[col] = df[col].astype('object')\n",
    "df.info()"
   ]
  },
  {
   "cell_type": "code",
   "execution_count": 9,
   "id": "411c2346",
   "metadata": {},
   "outputs": [
    {
     "name": "stdout",
     "output_type": "stream",
     "text": [
      "group\n",
      "control      50\n",
      "treatment    50\n",
      "Name: count, dtype: int64\n",
      "--------------------------------------------------\n",
      "landing_page\n",
      "new    50\n",
      "old    50\n",
      "Name: count, dtype: int64\n",
      "--------------------------------------------------\n",
      "converted\n",
      "yes    54\n",
      "no     46\n",
      "Name: count, dtype: int64\n",
      "--------------------------------------------------\n",
      "language_preferred\n",
      "French     34\n",
      "Spanish    34\n",
      "English    32\n",
      "Name: count, dtype: int64\n",
      "--------------------------------------------------\n"
     ]
    }
   ],
   "source": [
    "cat_cols = ['group', 'landing_page', 'converted', 'language_preferred']\n",
    "for column in cat_cols:\n",
    "    print(df[column].value_counts())\n",
    "    print(\"-\" * 50)"
   ]
  },
  {
   "cell_type": "markdown",
   "id": "7ba0e81b",
   "metadata": {
    "lang": "es"
   },
   "source": [
    "#### Obtener el resumen estadístico de las variables numéricas"
   ]
  },
  {
   "cell_type": "code",
   "execution_count": 10,
   "id": "mHcaTfF0Abjp",
   "metadata": {
    "id": "mHcaTfF0Abjp"
   },
   "outputs": [
    {
     "data": {
      "text/html": [
       "<div>\n",
       "<style scoped>\n",
       "    .dataframe tbody tr th:only-of-type {\n",
       "        vertical-align: middle;\n",
       "    }\n",
       "\n",
       "    .dataframe tbody tr th {\n",
       "        vertical-align: top;\n",
       "    }\n",
       "\n",
       "    .dataframe thead th {\n",
       "        text-align: right;\n",
       "    }\n",
       "</style>\n",
       "<table border=\"1\" class=\"dataframe\">\n",
       "  <thead>\n",
       "    <tr style=\"text-align: right;\">\n",
       "      <th></th>\n",
       "      <th>count</th>\n",
       "      <th>mean</th>\n",
       "      <th>std</th>\n",
       "      <th>min</th>\n",
       "      <th>25%</th>\n",
       "      <th>50%</th>\n",
       "      <th>75%</th>\n",
       "      <th>max</th>\n",
       "    </tr>\n",
       "  </thead>\n",
       "  <tbody>\n",
       "    <tr>\n",
       "      <th>time_spent_on_the_page</th>\n",
       "      <td>100.0</td>\n",
       "      <td>5.3778</td>\n",
       "      <td>2.378166</td>\n",
       "      <td>0.19</td>\n",
       "      <td>3.88</td>\n",
       "      <td>5.415</td>\n",
       "      <td>7.0225</td>\n",
       "      <td>10.71</td>\n",
       "    </tr>\n",
       "  </tbody>\n",
       "</table>\n",
       "</div>"
      ],
      "text/plain": [
       "                        count    mean       std   min   25%    50%     75%  \\\n",
       "time_spent_on_the_page  100.0  5.3778  2.378166  0.19  3.88  5.415  7.0225   \n",
       "\n",
       "                          max  \n",
       "time_spent_on_the_page  10.71  "
      ]
     },
     "execution_count": 10,
     "metadata": {},
     "output_type": "execute_result"
    }
   ],
   "source": [
    "#Revisión del estadistico de datos\n",
    "df.describe().T"
   ]
  },
  {
   "cell_type": "markdown",
   "id": "57cdd12c",
   "metadata": {
    "lang": "es"
   },
   "source": [
    "#### Obtener el resumen estadístico de las variables categóricas"
   ]
  },
  {
   "cell_type": "code",
   "execution_count": 11,
   "id": "JGLDFgDkIbMw",
   "metadata": {
    "id": "JGLDFgDkIbMw"
   },
   "outputs": [
    {
     "data": {
      "text/html": [
       "<div>\n",
       "<style scoped>\n",
       "    .dataframe tbody tr th:only-of-type {\n",
       "        vertical-align: middle;\n",
       "    }\n",
       "\n",
       "    .dataframe tbody tr th {\n",
       "        vertical-align: top;\n",
       "    }\n",
       "\n",
       "    .dataframe thead th {\n",
       "        text-align: right;\n",
       "    }\n",
       "</style>\n",
       "<table border=\"1\" class=\"dataframe\">\n",
       "  <thead>\n",
       "    <tr style=\"text-align: right;\">\n",
       "      <th></th>\n",
       "      <th>count</th>\n",
       "      <th>unique</th>\n",
       "      <th>top</th>\n",
       "      <th>freq</th>\n",
       "    </tr>\n",
       "  </thead>\n",
       "  <tbody>\n",
       "    <tr>\n",
       "      <th>group</th>\n",
       "      <td>100</td>\n",
       "      <td>2</td>\n",
       "      <td>control</td>\n",
       "      <td>50</td>\n",
       "    </tr>\n",
       "    <tr>\n",
       "      <th>landing_page</th>\n",
       "      <td>100</td>\n",
       "      <td>2</td>\n",
       "      <td>new</td>\n",
       "      <td>50</td>\n",
       "    </tr>\n",
       "    <tr>\n",
       "      <th>converted</th>\n",
       "      <td>100</td>\n",
       "      <td>2</td>\n",
       "      <td>yes</td>\n",
       "      <td>54</td>\n",
       "    </tr>\n",
       "    <tr>\n",
       "      <th>language_preferred</th>\n",
       "      <td>100</td>\n",
       "      <td>3</td>\n",
       "      <td>French</td>\n",
       "      <td>34</td>\n",
       "    </tr>\n",
       "  </tbody>\n",
       "</table>\n",
       "</div>"
      ],
      "text/plain": [
       "                   count unique      top freq\n",
       "group                100      2  control   50\n",
       "landing_page         100      2      new   50\n",
       "converted            100      2      yes   54\n",
       "language_preferred   100      3   French   34"
      ]
     },
     "execution_count": 11,
     "metadata": {},
     "output_type": "execute_result"
    }
   ],
   "source": [
    "# write your code here to print the categorical summary statistics\n",
    "df.describe(include = [\"category\"]).T"
   ]
  },
  {
   "cell_type": "markdown",
   "id": "af1c7c04",
   "metadata": {
    "lang": "es"
   },
   "source": [
    "### Comprobar si faltan valores"
   ]
  },
  {
   "cell_type": "code",
   "execution_count": 12,
   "id": "NPQfOZgAALLC",
   "metadata": {
    "id": "NPQfOZgAALLC"
   },
   "outputs": [
    {
     "data": {
      "text/plain": [
       "user_id                   0\n",
       "group                     0\n",
       "landing_page              0\n",
       "time_spent_on_the_page    0\n",
       "converted                 0\n",
       "language_preferred        0\n",
       "dtype: int64"
      ]
     },
     "execution_count": 12,
     "metadata": {},
     "output_type": "execute_result"
    }
   ],
   "source": [
    "#  Valores faltantes\n",
    "df.isnull().sum()"
   ]
  },
  {
   "cell_type": "code",
   "execution_count": 13,
   "id": "a00a66bc",
   "metadata": {
    "scrolled": true
   },
   "outputs": [
    {
     "data": {
      "text/plain": [
       "user_id                   0\n",
       "group                     0\n",
       "landing_page              0\n",
       "time_spent_on_the_page    0\n",
       "converted                 0\n",
       "language_preferred        0\n",
       "dtype: int64"
      ]
     },
     "execution_count": 13,
     "metadata": {},
     "output_type": "execute_result"
    }
   ],
   "source": [
    "#  Valores faltantes\n",
    "df.isna().sum()"
   ]
  },
  {
   "cell_type": "markdown",
   "id": "915feab8",
   "metadata": {},
   "source": [
    "* No exiten valores faltantes"
   ]
  },
  {
   "cell_type": "markdown",
   "id": "7f5b3a29",
   "metadata": {
    "lang": "es"
   },
   "source": [
    "### Buscar duplicados"
   ]
  },
  {
   "cell_type": "code",
   "execution_count": 14,
   "id": "JSUqAbuOI6W4",
   "metadata": {
    "id": "JSUqAbuOI6W4"
   },
   "outputs": [
    {
     "data": {
      "text/plain": [
       "0"
      ]
     },
     "execution_count": 14,
     "metadata": {},
     "output_type": "execute_result"
    }
   ],
   "source": [
    "# Buscar duplicados   \n",
    "df.duplicated().sum()"
   ]
  },
  {
   "cell_type": "code",
   "execution_count": 15,
   "id": "465a7ce3",
   "metadata": {},
   "outputs": [],
   "source": [
    "# Quitar duplicados\n",
    "#df.drop_duplicates(inplace= True)"
   ]
  },
  {
   "cell_type": "markdown",
   "id": "3f40c46d",
   "metadata": {},
   "source": [
    "* No existen valores duplicados."
   ]
  },
  {
   "cell_type": "markdown",
   "id": "763379d5",
   "metadata": {},
   "source": [
    "# Analisis Exploratorio de Datos"
   ]
  },
  {
   "cell_type": "markdown",
   "id": "d42249ae",
   "metadata": {
    "lang": "es"
   },
   "source": [
    "### 1. Análisis univariado"
   ]
  },
  {
   "cell_type": "markdown",
   "id": "9714e5e7",
   "metadata": {
    "lang": "es"
   },
   "source": [
    "#### 1.1 Tiempo de permanencia en la página"
   ]
  },
  {
   "cell_type": "code",
   "execution_count": 16,
   "id": "e3cd8114",
   "metadata": {
    "scrolled": false
   },
   "outputs": [
    {
     "data": {
      "image/png": "[encoded data removed]",
      "text/plain": [
       "<Figure size 640x480 with 1 Axes>"
      ]
     },
     "metadata": {},
     "output_type": "display_data"
    },
    {
     "name": "stdout",
     "output_type": "stream",
     "text": [
      "Intervalo (segundos)  Frecuencia\n",
      "           0.2 - 1.2           6\n",
      "           1.2 - 2.3           6\n",
      "           2.3 - 3.3           8\n",
      "           3.3 - 4.4          12\n",
      "           4.4 - 5.5          19\n",
      "           5.5 - 6.5          16\n",
      "           6.5 - 7.6          17\n",
      "           7.6 - 8.6           8\n",
      "           8.6 - 9.7           5\n",
      "          9.7 - 10.7           3\n"
     ]
    },
    {
     "name": "stderr",
     "output_type": "stream",
     "text": [
      "C:\\ProgramData\\anaconda3\\Lib\\site-packages\\seaborn\\axisgrid.py:118: UserWarning: The figure layout has changed to tight\n",
      "  self._figure.tight_layout(*args, **kwargs)\n"
     ]
    },
    {
     "data": {
      "image/png": "[encoded data removed]",
      "text/plain": [
       "<Figure size 500x500 with 1 Axes>"
      ]
     },
     "metadata": {},
     "output_type": "display_data"
    },
    {
     "name": "stdout",
     "output_type": "stream",
     "text": [
      "Intervalo (segundos)  Densidad Promedio\n",
      "              [0, 1)           0.034371\n",
      "              [1, 2)           0.050667\n",
      "              [2, 3)           0.073469\n",
      "              [3, 4)           0.105682\n",
      "              [4, 5)           0.138835\n",
      "              [5, 6)           0.160473\n",
      "              [6, 7)           0.151690\n",
      "              [7, 8)           0.114634\n",
      "              [8, 9)           0.074233\n",
      "             [9, 10)           0.042360\n",
      "            [10, 11)           0.021952\n",
      "            [11, 12)           0.008863\n"
     ]
    },
    {
     "data": {
      "image/png": "[encoded data removed]",
      "text/plain": [
       "<Figure size 640x480 with 1 Axes>"
      ]
     },
     "metadata": {},
     "output_type": "display_data"
    },
    {
     "name": "stdout",
     "output_type": "stream",
     "text": [
      "                    Métrica                                         Descripción   Valor\n",
      "        Primer Cuartil (Q1)           25% de los usuarios debajo de este tiempo    3.88\n",
      "                    Mediana 50% de los usuarios debajo de este tiempo (mediana)   5.415\n",
      "        Tercer Cuartil (Q3)           75% de los usuarios debajo de este tiempo  7.0225\n",
      "Rango Intercuartílico (IQR)                            Diferencia entre Q3 y Q1  3.1425\n",
      "               Valor Mínimo                             Tiempo mínimo observado    0.19\n",
      "               Valor Máximo                             Tiempo máximo observado   10.71\n",
      "           Valores Atípicos               Tiempos fuera de los límites normales      []\n"
     ]
    }
   ],
   "source": [
    "# Histograma\n",
    "# Crear el histograma\n",
    "hist_plot = sns.histplot(data=df, x='time_spent_on_the_page', bins=10)\n",
    "plt.title('Histograma del Tiempo de Permanencia en la Página')\n",
    "plt.xlabel('Tiempo de permanencia en la página (segundos)')\n",
    "plt.ylabel('Frecuencia')\n",
    "plt.show()\n",
    "\n",
    "# Obtener los datos del histograma\n",
    "counts, edges = hist_plot.patches[0].get_height(), hist_plot.patches[0].get_x()\n",
    "hist_data = {\n",
    "    'Intervalo (segundos)': [],\n",
    "    'Frecuencia': []\n",
    "}\n",
    "\n",
    "for patch in hist_plot.patches:\n",
    "    interval = f\"{patch.get_x():.1f} - {patch.get_x() + patch.get_width():.1f}\"\n",
    "    frequency = patch.get_height()\n",
    "    hist_data['Intervalo (segundos)'].append(interval)\n",
    "    hist_data['Frecuencia'].append(frequency)\n",
    "\n",
    "# Crear la tabla resumen\n",
    "tabla_resumen = pd.DataFrame(hist_data)\n",
    "\n",
    "# Mostrar la tabla resumen\n",
    "print(tabla_resumen.to_string(index=False))\n",
    "# --------------------\n",
    "# Crear el gráfico de densidad (KDE)\n",
    "kde_plot = sns.displot(data=df, x='time_spent_on_the_page', kind='kde')\n",
    "plt.title('Gráfico de Densidad del Tiempo de Permanencia en la Página')\n",
    "plt.xlabel('Tiempo de permanencia en la página (segundos)')\n",
    "plt.ylabel('Densidad')\n",
    "plt.show()\n",
    "\n",
    "# Obtener los datos del gráfico de densidad (KDE)\n",
    "line = kde_plot.ax.lines[0]\n",
    "x_data = line.get_xdata()\n",
    "y_data = line.get_ydata()\n",
    "\n",
    "# Crear un DataFrame temporal con los datos de densidad\n",
    "kde_data = pd.DataFrame({'Tiempo (segundos)': x_data, 'Densidad': y_data})\n",
    "\n",
    "# Definir los intervalos de tiempo\n",
    "kde_data['Intervalo'] = pd.cut(kde_data['Tiempo (segundos)'], bins=range(0, 13, 1), right=False)\n",
    "\n",
    "# Calcular la densidad promedio para cada intervalo\n",
    "kde_summary = kde_data.groupby('Intervalo')['Densidad'].mean().reset_index()\n",
    "\n",
    "# Renombrar las columnas para mayor claridad\n",
    "kde_summary.columns = ['Intervalo (segundos)', 'Densidad Promedio']\n",
    "\n",
    "# Mostrar la tabla resumen\n",
    "print(kde_summary.to_string(index=False))\n",
    "# --------------------\n",
    "# Crear el gráfico de caja (boxplot)\n",
    "box_plot = sns.boxplot(data=df, x='time_spent_on_the_page')\n",
    "plt.title('Boxplot del Tiempo de Permanencia en la Página')\n",
    "plt.xlabel('Tiempo de permanencia en la página (segundos)')\n",
    "plt.show()\n",
    "\n",
    "# Obtener las estadísticas del boxplot\n",
    "boxplot_stats = df['time_spent_on_the_page'].describe(percentiles=[.25, .5, .75])\n",
    "\n",
    "# Calcular el rango intercuartílico (IQR) y los valores atípicos\n",
    "Q1 = boxplot_stats['25%']\n",
    "Q3 = boxplot_stats['75%']\n",
    "IQR = Q3 - Q1\n",
    "outliers = df['time_spent_on_the_page'][(df['time_spent_on_the_page'] < (Q1 - 1.5 * IQR)) | (df['time_spent_on_the_page'] > (Q3 + 1.5 * IQR))].tolist()\n",
    "\n",
    "# Crear la tabla resumen con los datos del boxplot\n",
    "tabla_resumen_boxplot = pd.DataFrame({\n",
    "    'Métrica': [\n",
    "        'Primer Cuartil (Q1)', 'Mediana', 'Tercer Cuartil (Q3)', 'Rango Intercuartílico (IQR)', \n",
    "        'Valor Mínimo', 'Valor Máximo', 'Valores Atípicos'\n",
    "    ],\n",
    "    'Descripción': [\n",
    "        '25% de los usuarios debajo de este tiempo', '50% de los usuarios debajo de este tiempo (mediana)', \n",
    "        '75% de los usuarios debajo de este tiempo', 'Diferencia entre Q3 y Q1', \n",
    "        'Tiempo mínimo observado', 'Tiempo máximo observado', 'Tiempos fuera de los límites normales'\n",
    "    ],\n",
    "    'Valor': [\n",
    "        Q1, boxplot_stats['50%'], Q3, IQR, boxplot_stats['min'], boxplot_stats['max'], outliers\n",
    "    ]\n",
    "})\n",
    "\n",
    "# Mostrar la tabla resumen\n",
    "print(tabla_resumen_boxplot.to_string(index=False))"
   ]
  },
  {
   "cell_type": "markdown",
   "id": "fa5579ba",
   "metadata": {
    "lang": "es"
   },
   "source": [
    "#### 1.2 Grupo"
   ]
  },
  {
   "cell_type": "code",
   "execution_count": 17,
   "id": "-EckQbpMAsp1",
   "metadata": {
    "id": "-EckQbpMAsp1"
   },
   "outputs": [
    {
     "data": {
      "text/plain": [
       "group\n",
       "control      50\n",
       "treatment    50\n",
       "Name: count, dtype: int64"
      ]
     },
     "execution_count": 17,
     "metadata": {},
     "output_type": "execute_result"
    }
   ],
   "source": [
    "df['group'].value_counts()"
   ]
  },
  {
   "cell_type": "code",
   "execution_count": 18,
   "id": "ROvZjuEGBm0t",
   "metadata": {
    "id": "ROvZjuEGBm0t"
   },
   "outputs": [
    {
     "data": {
      "image/png": "[encoded data removed]",
      "text/plain": [
       "<Figure size 640x480 with 1 Axes>"
      ]
     },
     "metadata": {},
     "output_type": "display_data"
    }
   ],
   "source": [
    "sns.countplot(data=df,x='group')\n",
    "plt.show()"
   ]
  },
  {
   "cell_type": "markdown",
   "id": "672a3675",
   "metadata": {
    "lang": "es"
   },
   "source": [
    "#### 1.3 Página de destino"
   ]
  },
  {
   "cell_type": "code",
   "execution_count": 19,
   "id": "6LlJXjzBA_jP",
   "metadata": {
    "id": "6LlJXjzBA_jP"
   },
   "outputs": [
    {
     "data": {
      "text/plain": [
       "landing_page\n",
       "new    50\n",
       "old    50\n",
       "Name: count, dtype: int64"
      ]
     },
     "execution_count": 19,
     "metadata": {},
     "output_type": "execute_result"
    }
   ],
   "source": [
    "df['landing_page'].value_counts()"
   ]
  },
  {
   "cell_type": "code",
   "execution_count": 20,
   "id": "CbIZgbOzBuxF",
   "metadata": {
    "id": "CbIZgbOzBuxF"
   },
   "outputs": [
    {
     "data": {
      "image/png": "[encoded data removed]",
      "text/plain": [
       "<Figure size 640x480 with 1 Axes>"
      ]
     },
     "metadata": {},
     "output_type": "display_data"
    }
   ],
   "source": [
    "# complete the code to plot the countplot\n",
    "sns.countplot(data=df,x=\"landing_page\")\n",
    "plt.show()"
   ]
  },
  {
   "cell_type": "markdown",
   "id": "1fce6e75",
   "metadata": {
    "lang": "es"
   },
   "source": [
    "#### 1.4 Convertido"
   ]
  },
  {
   "cell_type": "code",
   "execution_count": 21,
   "id": "z80t7LK5BCBT",
   "metadata": {
    "id": "z80t7LK5BCBT"
   },
   "outputs": [
    {
     "data": {
      "text/plain": [
       "converted\n",
       "yes    54\n",
       "no     46\n",
       "Name: count, dtype: int64"
      ]
     },
     "execution_count": 21,
     "metadata": {},
     "output_type": "execute_result"
    }
   ],
   "source": [
    "df['converted'].value_counts()"
   ]
  },
  {
   "cell_type": "code",
   "execution_count": 22,
   "id": "qIMrpxF4B7an",
   "metadata": {
    "id": "qIMrpxF4B7an"
   },
   "outputs": [
    {
     "data": {
      "image/png": "[encoded data removed]",
      "text/plain": [
       "<Figure size 640x480 with 1 Axes>"
      ]
     },
     "metadata": {},
     "output_type": "display_data"
    }
   ],
   "source": [
    "# complete the code to plot the countplot\n",
    "sns.countplot(data=df,x=\"converted\")\n",
    "plt.show()"
   ]
  },
  {
   "cell_type": "markdown",
   "id": "e590aff2",
   "metadata": {
    "lang": "es"
   },
   "source": [
    "#### 1.5 Idioma preferido"
   ]
  },
  {
   "cell_type": "code",
   "execution_count": 23,
   "id": "_g2CBicdBDF0",
   "metadata": {
    "id": "_g2CBicdBDF0"
   },
   "outputs": [
    {
     "data": {
      "text/plain": [
       "language_preferred\n",
       "French     34\n",
       "Spanish    34\n",
       "English    32\n",
       "Name: count, dtype: int64"
      ]
     },
     "execution_count": 23,
     "metadata": {},
     "output_type": "execute_result"
    }
   ],
   "source": [
    "df['language_preferred'].value_counts()"
   ]
  },
  {
   "cell_type": "code",
   "execution_count": 24,
   "id": "BYnVZH8ECQaY",
   "metadata": {
    "id": "BYnVZH8ECQaY"
   },
   "outputs": [
    {
     "data": {
      "image/png": "[encoded data removed]",
      "text/plain": [
       "<Figure size 640x480 with 1 Axes>"
      ]
     },
     "metadata": {},
     "output_type": "display_data"
    }
   ],
   "source": [
    "# complete the code to plot the countplot\n",
    "sns.countplot(data=df,x=\"language_preferred\")\n",
    "plt.show()"
   ]
  },
  {
   "cell_type": "markdown",
   "id": "ba421416",
   "metadata": {
    "lang": "es"
   },
   "source": [
    "### 2. Análisis bivariado"
   ]
  },
  {
   "cell_type": "markdown",
   "id": "d6aeaf38",
   "metadata": {
    "lang": "es"
   },
   "source": [
    "#### 2.1 Página de destino vs Tiempo de permanencia en la página"
   ]
  },
  {
   "cell_type": "code",
   "execution_count": 25,
   "id": "80a38964",
   "metadata": {},
   "outputs": [
    {
     "data": {
      "image/png": "[encoded data removed]",
      "text/plain": [
       "<Figure size 640x480 with 1 Axes>"
      ]
     },
     "metadata": {},
     "output_type": "display_data"
    }
   ],
   "source": [
    "sns.boxplot(data=df,x= 'landing_page',y= 'time_spent_on_the_page')\n",
    "plt.show()"
   ]
  },
  {
   "cell_type": "code",
   "execution_count": 26,
   "id": "2y7N8qQiDEfn",
   "metadata": {
    "id": "2y7N8qQiDEfn",
    "scrolled": true
   },
   "outputs": [
    {
     "name": "stdout",
     "output_type": "stream",
     "text": [
      "              count    mean       std   min    25%    50%     75%    max\n",
      "landing_page                                                            \n",
      "new            50.0  6.2232  1.817031  1.65  5.175  6.105  7.1600  10.71\n",
      "old            50.0  4.5324  2.581975  0.19  2.720  4.380  6.4425  10.30\n"
     ]
    },
    {
     "data": {
      "text/plain": [
       "<Figure size 1000x600 with 0 Axes>"
      ]
     },
     "metadata": {},
     "output_type": "display_data"
    }
   ],
   "source": [
    "plt.figure(figsize=(10,6))\n",
    "# Calcular estadísticas descriptivas para cada página de destino\n",
    "summary_stats = df.groupby('landing_page')['time_spent_on_the_page'].describe()\n",
    "\n",
    "# Mostrar la tabla resumen\n",
    "print(summary_stats)\n",
    "\n"
   ]
  },
  {
   "cell_type": "markdown",
   "id": "912eb0fc",
   "metadata": {},
   "source": [
    "#### Observaciones: Promedio (mean):\n",
    "\n",
    "* El tiempo promedio de permanencia en la nueva página (new) es de 6.2232 segundos.\n",
    "* El tiempo promedio de permanencia en la página antigua (old) es de 4.5324 segundos.\n",
    "* Observamos que los usuarios pasan en promedio más tiempo en la nueva página en comparación con la página antigua."
   ]
  },
  {
   "cell_type": "markdown",
   "id": "480bb36f",
   "metadata": {
    "lang": "es"
   },
   "source": [
    "#### 2.2 Estado de conversión frente al tiempo de permanencia en la página"
   ]
  },
  {
   "cell_type": "code",
   "execution_count": 27,
   "id": "yPqV_UsvDURc",
   "metadata": {
    "id": "yPqV_UsvDURc"
   },
   "outputs": [
    {
     "data": {
      "image/png": "[encoded data removed]",
      "text/plain": [
       "<Figure size 640x480 with 1 Axes>"
      ]
     },
     "metadata": {},
     "output_type": "display_data"
    }
   ],
   "source": [
    "# complete el código para trazar un gráfico adecuado para comprender la relación entre las columnas 'time_spent_on_the_page' y 'converted'\n",
    "sns.boxplot(data = df,x='converted',y='time_spent_on_the_page')\n",
    "plt.show()\n"
   ]
  },
  {
   "cell_type": "code",
   "execution_count": 28,
   "id": "4e113c0c",
   "metadata": {},
   "outputs": [
    {
     "name": "stdout",
     "output_type": "stream",
     "text": [
      "           count      mean       std   min     25%    50%     75%    max\n",
      "converted                                                               \n",
      "no          46.0  3.915870  2.226897  0.19  2.3375  3.980  4.9225   9.15\n",
      "yes         54.0  6.623148  1.708427  2.58  5.5000  6.495  7.3675  10.71\n"
     ]
    }
   ],
   "source": [
    "# Calcular estadísticas descriptivas para cada página de destino\n",
    "summary_stats = df.groupby('converted')['time_spent_on_the_page'].describe()\n",
    "\n",
    "# Mostrar la tabla resumen\n",
    "print(summary_stats)\n"
   ]
  },
  {
   "cell_type": "markdown",
   "id": "dd3d2224",
   "metadata": {},
   "source": [
    "### Observaciones\n",
    "* El tiempo promedio de permanencia de los usuarios que no se convirtieron es de 3.9159 segundos.\n",
    "* El tiempo promedio de permanencia de los usuarios que se convirtieron es de 6.6231 segundos.\n",
    "* Los usuarios que se convirtieron pasaron significativamente más tiempo en la página en comparación con los que no se convirtieron."
   ]
  },
  {
   "cell_type": "markdown",
   "id": "afdd61b2",
   "metadata": {
    "lang": "es"
   },
   "source": [
    "#### 2.3 Idioma preferido frente al tiempo de permanencia en la página"
   ]
  },
  {
   "cell_type": "code",
   "execution_count": 29,
   "id": "IaFp53rDDn2W",
   "metadata": {
    "id": "IaFp53rDDn2W"
   },
   "outputs": [
    {
     "data": {
      "image/png": "[encoded data removed]",
      "text/plain": [
       "<Figure size 640x480 with 1 Axes>"
      ]
     },
     "metadata": {},
     "output_type": "display_data"
    }
   ],
   "source": [
    "# write the code to plot a suitable graph to understand the distribution of 'time_spent_on_the_page' among the 'language_preferred'\n",
    "sns.boxplot(data = df, x = \"language_preferred\", y = \"time_spent_on_the_page\")\n",
    "plt.show()"
   ]
  },
  {
   "cell_type": "code",
   "execution_count": 30,
   "id": "24df5973",
   "metadata": {
    "scrolled": true
   },
   "outputs": [
    {
     "name": "stdout",
     "output_type": "stream",
     "text": [
      "language_preferred    English     French    Spanish\n",
      "count               32.000000  34.000000  34.000000\n",
      "mean                 5.559062   5.253235   5.331765\n",
      "std                  2.621079   2.675413   1.818095\n",
      "min                  0.220000   0.400000   0.190000\n",
      "25%                  3.617500   3.395000   4.475000\n",
      "50%                  5.755000   5.315000   5.605000\n",
      "75%                  7.137500   7.367500   6.515000\n",
      "max                 10.500000  10.710000   8.720000\n"
     ]
    }
   ],
   "source": [
    "# Calcular estadísticas descriptivas para cada página de destino\n",
    "summary_stats = df.groupby('language_preferred')['time_spent_on_the_page'].describe().T\n",
    "\n",
    "# Mostrar la tabla resumen\n",
    "print(summary_stats)"
   ]
  },
  {
   "cell_type": "markdown",
   "id": "b405c21b",
   "metadata": {},
   "source": [
    "#### Observaciones:\n",
    "Promedio de Tiempo de Permanencia:\n",
    "\n",
    "* En promedio, los usuarios que prefieren el inglés pasan aproximadamente 5.56 segundos en la página.\n",
    "* Los usuarios que prefieren el francés tienen un tiempo de permanencia promedio de aproximadamente 5.25 segundos.\n",
    "* Los usuarios que prefieren el español tienen un tiempo de permanencia promedio de aproximadamente 5.33 segundos."
   ]
  },
  {
   "cell_type": "markdown",
   "id": "a867691e",
   "metadata": {
    "lang": "es"
   },
   "source": [
    "## 1. ¿Pasan los usuarios más tiempo en la nueva página de destino que en la página de destino existente?"
   ]
  },
  {
   "cell_type": "markdown",
   "id": "a8ba7bef",
   "metadata": {
    "lang": "es"
   },
   "source": [
    "### Realizar análisis visual"
   ]
  },
  {
   "cell_type": "code",
   "execution_count": 31,
   "id": "6eZJa41eg21n",
   "metadata": {
    "id": "6eZJa41eg21n",
    "scrolled": false
   },
   "outputs": [
    {
     "data": {
      "image/png": "[encoded data removed]",
      "text/plain": [
       "<Figure size 800x600 with 1 Axes>"
      ]
     },
     "metadata": {},
     "output_type": "display_data"
    }
   ],
   "source": [
    "# visual analysis of the time spent on the new page and the time spent on the old page\n",
    "plt.figure(figsize=(8,6))\n",
    "sns.boxplot(x = 'landing_page', y = 'time_spent_on_the_page', data = df)\n",
    "plt.show()\n",
    "\n"
   ]
  },
  {
   "cell_type": "code",
   "execution_count": 32,
   "id": "d3203bd3",
   "metadata": {},
   "outputs": [
    {
     "name": "stdout",
     "output_type": "stream",
     "text": [
      "landing_page        new        old\n",
      "count         50.000000  50.000000\n",
      "mean           6.223200   4.532400\n",
      "std            1.817031   2.581975\n",
      "min            1.650000   0.190000\n",
      "25%            5.175000   2.720000\n",
      "50%            6.105000   4.380000\n",
      "75%            7.160000   6.442500\n",
      "max           10.710000  10.300000\n"
     ]
    }
   ],
   "source": [
    "# Calcular estadísticas descriptivas para cada página de destino\n",
    "summary_stats = df.groupby('landing_page')['time_spent_on_the_page'].describe().T\n",
    "\n",
    "# Mostrar la tabla resumen\n",
    "print(summary_stats)"
   ]
  },
  {
   "cell_type": "markdown",
   "id": "ef9b7b09",
   "metadata": {},
   "source": [
    "* Si los usuarios pasan mas tiempo en la pagina nueva, alrrededor de 6 minutos, mientras que en la vieja pagina 5 minutos"
   ]
  },
  {
   "cell_type": "markdown",
   "id": "90252ad6",
   "metadata": {},
   "source": [
    "# 3. Hipótesis probadas y resultados\n"
   ]
  },
  {
   "cell_type": "markdown",
   "id": "1c44badf",
   "metadata": {
    "lang": "es"
   },
   "source": [
    "### Paso 1: Definir las hipótesis nula y alternativa"
   ]
  },
  {
   "cell_type": "markdown",
   "id": "d2ac77ef",
   "metadata": {
    "id": "d2ac77ef"
   },
   "source": [
    "$H_0$:  El tiempo medio de interacción con la nueva pagina es igual al tiempo medio de los usuarios en la pagina antigua.\n",
    "\n",
    "$H_a$: El tiempo medio de interacción con la nueva pagina es mayor al tiempo medio de los usuarios en la pagina antigua.\n",
    "Entendiendo que $μ1$ es el tiempo medio de los usuarios en la pagina nueva y $μ2$  es el tiempo medio de los usuarios en la pagina antigua.\n",
    "\n",
    "Matemáticamente, las hipótesis formuladas anteriormente se pueden escribir como:\n",
    "$H_0$:$μ1=μ2\n",
    "\n",
    "$H_a$:$μ1>μ2"
   ]
  },
  {
   "cell_type": "markdown",
   "id": "cba5bb93",
   "metadata": {
    "lang": "es"
   },
   "source": [
    "### Paso 2: Seleccion de la prueba adecuada"
   ]
  },
  {
   "cell_type": "markdown",
   "id": "79ed66ef",
   "metadata": {
    "lang": "es"
   },
   "source": [
    "Esta es una prueba de una cola sobre dos medias poblacionales de dos poblaciones independientes. Se desconocen las desviaciones estándar de la población. **Se tiene los datos de 2 medias de poblaciones independientes, con desviacion estandar desconocida Se hara uso de la \"Prueba T\"**."
   ]
  },
  {
   "cell_type": "markdown",
   "id": "12df8716",
   "metadata": {
    "lang": "es"
   },
   "source": [
    "\n",
    "### Paso 3: Decidir el nivel de significancia"
   ]
  },
  {
   "cell_type": "markdown",
   "id": "9feaf669",
   "metadata": {
    "lang": "es"
   },
   "source": [
    "Como se indica en el enunciado del problema, seleccionamos $\\alpha = 0.05$."
   ]
  },
  {
   "cell_type": "markdown",
   "id": "00cfaee3",
   "metadata": {
    "lang": "es"
   },
   "source": [
    "### Paso 4: recopilar y preparar datos"
   ]
  },
  {
   "cell_type": "code",
   "execution_count": 33,
   "id": "f5a59495",
   "metadata": {
    "id": "f5a59495"
   },
   "outputs": [],
   "source": [
    "# create subsetted data frame for new landing page users \n",
    "time_spent_new = df[df['landing_page'] == 'new']['time_spent_on_the_page']\n",
    "\n",
    "# create subsetted data frame for old landing page users\n",
    "time_spent_old = df[df['landing_page'] == 'old']['time_spent_on_the_page'] ##Complete the code"
   ]
  },
  {
   "cell_type": "code",
   "execution_count": 34,
   "id": "tNGXW88MFxFz",
   "metadata": {
    "id": "tNGXW88MFxFz"
   },
   "outputs": [
    {
     "name": "stdout",
     "output_type": "stream",
     "text": [
      "The sample standard deviation of the time spent on the new page is: 1.82\n",
      "The sample standard deviation of the time spent on the new page is: 2.58\n"
     ]
    }
   ],
   "source": [
    "print('The sample standard deviation of the time spent on the new page is:', round(time_spent_new.std(),2))\n",
    "print('The sample standard deviation of the time spent on the new page is:', round(time_spent_old.std(),2))"
   ]
  },
  {
   "cell_type": "markdown",
   "id": "d776cbc9",
   "metadata": {
    "lang": "es"
   },
   "source": [
    "**Con base en las desviaciones estándar de la muestra de los dos grupos, decida si se puede suponer que las desviaciones estándar de la población son iguales o desiguales**."
   ]
  },
  {
   "cell_type": "markdown",
   "id": "3d97cd69",
   "metadata": {
    "lang": "es"
   },
   "source": [
    "### Paso 5: Calcular el valor p"
   ]
  },
  {
   "cell_type": "code",
   "execution_count": 35,
   "id": "fac8594a",
   "metadata": {
    "id": "fac8594a",
    "scrolled": true
   },
   "outputs": [
    {
     "name": "stdout",
     "output_type": "stream",
     "text": [
      "The p-value is 0.0001392381225166549\n",
      "The p-value is 0.0001392381225166549 si es menor a la significancia $\u0007lpha = 0.05$ se rechaza hipotesis nula.\n"
     ]
    }
   ],
   "source": [
    "# complete the code to import the required function\n",
    "from scipy.stats import ttest_ind \n",
    "\n",
    "# write the code to calculate the p-value\n",
    "test_stat, p_value =  ttest_ind(time_spent_new, time_spent_old, equal_var = False, alternative = 'greater')  #complete the code by filling appropriate parameters in the blanks\n",
    "\n",
    "print('The p-value is', p_value)\n",
    "print('The p-value is', p_value,\"si es menor a la significancia $\\alpha = 0.05$ se rechaza hipotesis nula.\")"
   ]
  },
  {
   "cell_type": "markdown",
   "id": "f3a6244c",
   "metadata": {
    "lang": "es"
   },
   "source": [
    "### Paso 6: Compare el valor p con $\\alpha$"
   ]
  },
  {
   "cell_type": "code",
   "execution_count": 36,
   "id": "7be47289",
   "metadata": {
    "id": "7be47289"
   },
   "outputs": [
    {
     "name": "stdout",
     "output_type": "stream",
     "text": [
      "As the p-value 0.0001392381225166549 is less than the level of significance, we reject the null hypothesis.\n"
     ]
    }
   ],
   "source": [
    "# print the conclusion based on p-value\n",
    "if p_value < 0.05:\n",
    "    print(f'As the p-value {p_value} is less than the level of significance, we reject the null hypothesis.')\n",
    "else:\n",
    "    print(f'As the p-value {p_value} is greater than the level of significance, we fail to reject the null hypothesis.')"
   ]
  },
  {
   "cell_type": "markdown",
   "id": "cf0af1db",
   "metadata": {
    "lang": "es"
   },
   "source": [
    "### Paso 7: Extraer inferencia"
   ]
  },
  {
   "cell_type": "markdown",
   "id": "70974d32",
   "metadata": {},
   "source": [
    "Como el valor p (~0.00013) es menor que el nivel de significación, podemos rechazar la hipótesis nula. Por lo tanto, tenemos suficiente evidencia para respaldar la afirmación de que el tiempo medio de interacción con la nueva pagina es mayor al tiempo medio de los usuarios en la pagina antigua."
   ]
  },
  {
   "cell_type": "markdown",
   "id": "6b16dd4b",
   "metadata": {
    "id": "6b16dd4b"
   },
   "source": [
    "\n",
    "\n"
   ]
  },
  {
   "cell_type": "markdown",
   "id": "229314db",
   "metadata": {
    "lang": "es"
   },
   "source": [
    "## 2. ¿La tasa de conversión (la proporción de usuarios que visitan la página de destino y se convierten) de la página nueva es mayor que la tasa de conversión de la página anterior?"
   ]
  },
  {
   "cell_type": "markdown",
   "id": "60ee6427",
   "metadata": {
    "lang": "es"
   },
   "source": [
    "### Realizar análisis visual"
   ]
  },
  {
   "cell_type": "code",
   "execution_count": 37,
   "id": "b7f52898",
   "metadata": {
    "id": "b7f52898"
   },
   "outputs": [
    {
     "data": {
      "image/png": "[encoded data removed]",
      "text/plain": [
       "<Figure size 800x400 with 1 Axes>"
      ]
     },
     "metadata": {},
     "output_type": "display_data"
    }
   ],
   "source": [
    "# Completar el código para comparar visualmente la tasa de conversión para la nueva página y la tasa de conversión para la página antigua\n",
    "pd.crosstab(df['landing_page'], df['converted'], normalize='index').plot(kind=\"bar\", figsize=(8,4), stacked=True)\n",
    "plt.legend()\n",
    "plt.show()"
   ]
  },
  {
   "cell_type": "markdown",
   "id": "93c85f6e",
   "metadata": {
    "lang": "es"
   },
   "source": [
    "### Paso 1: Definir las hipótesis nula y alternativa"
   ]
  },
  {
   "cell_type": "markdown",
   "id": "VjdHgQQPLIim",
   "metadata": {
    "id": "VjdHgQQPLIim"
   },
   "source": [
    "$H_0$:  El tiempo medio de interacción con la nueva pagina es igual al tiempo medio de los usuarios en la pagina antigua.\n",
    "\n",
    "$H_a$: El tiempo medio de interacción con la nueva pagina es mayor al tiempo medio de los usuarios en la pagina antigua.\n",
    "Entendiendo que $μ1$ es el tiempo medio de los usuarios en la pagina nueva y $μ2$  es el tiempo medio de los usuarios en la pagina antigua.\n",
    "\n",
    "Matemáticamente, las hipótesis formuladas anteriormente se pueden escribir como:\n",
    "$H_0$:$μ1=μ2\n",
    "\n",
    "$H_a$:$μ1>μ2\n"
   ]
  },
  {
   "cell_type": "markdown",
   "id": "2e27373b",
   "metadata": {
    "lang": "es"
   },
   "source": [
    "### Paso 2: Seleccion de la prueba adecuada"
   ]
  },
  {
   "cell_type": "markdown",
   "id": "76b1e54f",
   "metadata": {
    "lang": "es"
   },
   "source": [
    "Esta es una prueba de una cola sobre dos proporciones de población de dos poblaciones independientes. **Con base en esta información, Se hara uso de la \"Prueba Z\" para 2 muestras**."
   ]
  },
  {
   "cell_type": "markdown",
   "id": "1efee1d5",
   "metadata": {
    "lang": "es"
   },
   "source": [
    "### Paso 3: Decidir el nivel de significancia"
   ]
  },
  {
   "cell_type": "markdown",
   "id": "886cdd26",
   "metadata": {
    "lang": "es"
   },
   "source": [
    "Como se indica en el enunciado del problema, seleccionamos α = 0.05."
   ]
  },
  {
   "cell_type": "markdown",
   "id": "66d08ad2",
   "metadata": {
    "lang": "es"
   },
   "source": [
    "### Paso 4: recopilar y preparar datos"
   ]
  },
  {
   "cell_type": "code",
   "execution_count": 38,
   "id": "Sbtfr2N6INtG",
   "metadata": {
    "id": "Sbtfr2N6INtG"
   },
   "outputs": [
    {
     "name": "stdout",
     "output_type": "stream",
     "text": [
      "El numero de usuarios convertidos para la nueva y vieja pagina son 33 y 21 respectivamente\n",
      "El numero de usuarios servidos para la nueva y vieja pagina son 50 y 50 respectivamente.\n"
     ]
    }
   ],
   "source": [
    "# calculate the number of converted users in the treatment group\n",
    "new_converted = df[df['group'] == 'treatment']['converted'].value_counts()['yes']\n",
    "# calculate the number of converted users in the control group\n",
    "old_converted = df[df['group'] == 'control']['converted'].value_counts()['yes'] # complete your code here\n",
    "print('El numero de usuarios convertidos para la nueva y vieja pagina son {0} y {1} respectivamente'.format(new_converted, old_converted))\n",
    "\n",
    "n_control = df.group.value_counts()['control'] # total number of users in the control group\n",
    "n_treatment = df.group.value_counts()['treatment'] # total number of users in the treatment group\n",
    "print('El numero de usuarios servidos para la nueva y vieja pagina son {0} y {1} respectivamente.'.format(n_control, n_treatment ))"
   ]
  },
  {
   "cell_type": "markdown",
   "id": "e719a287",
   "metadata": {
    "lang": "es"
   },
   "source": [
    "### Paso 5: Calcular el valor p"
   ]
  },
  {
   "cell_type": "code",
   "execution_count": 39,
   "id": "0kAItTuKI-88",
   "metadata": {
    "id": "0kAItTuKI-88"
   },
   "outputs": [
    {
     "name": "stdout",
     "output_type": "stream",
     "text": [
      "El valor P es: 0.008026308204056278\n"
     ]
    }
   ],
   "source": [
    "# complete the code to import the required function\n",
    "from statsmodels.stats.proportion import proportions_ztest   \n",
    "\n",
    "# write the code to calculate the p-value\n",
    "test_stat, p_value = proportions_ztest([new_converted, old_converted] , [n_treatment, n_control], alternative ='larger')  \n",
    "\n",
    "\n",
    "\n",
    "print('El valor P es:', p_value)"
   ]
  },
  {
   "cell_type": "markdown",
   "id": "3e012c23",
   "metadata": {
    "lang": "es"
   },
   "source": [
    "### Paso 6: Compare el valor p con $\\alpha$"
   ]
  },
  {
   "cell_type": "code",
   "execution_count": 40,
   "id": "OTR1ANvmI-88",
   "metadata": {
    "id": "OTR1ANvmI-88"
   },
   "outputs": [
    {
     "name": "stdout",
     "output_type": "stream",
     "text": [
      "Como el valor P 0.008026308204056278 es menor que la significancia, se rechaza la hipotesis nula.\n"
     ]
    }
   ],
   "source": [
    "# print the conclusion based on p-value\n",
    "if p_value < 0.05:\n",
    "    print(f'Como el valor P {p_value} es menor que la significancia, se rechaza la hipotesis nula.')\n",
    "else:\n",
    "    print(f'Como el valor P  {p_value} es mayor que la significancia, No se rechaza la hipotesis nula.')"
   ]
  },
  {
   "cell_type": "markdown",
   "id": "c2fd6f06",
   "metadata": {
    "lang": "es"
   },
   "source": [
    "### Paso 7: Extraer inferencia"
   ]
  },
  {
   "cell_type": "markdown",
   "id": "u_KsjYc_I-89",
   "metadata": {
    "id": "u_KsjYc_I-89"
   },
   "source": [
    "\n",
    "Existe evidencia estadistica para rechazar la hipotesis nula y aceptar que la tasa de conversion o suscripcion de la pagina nueva es mayor la la tasa de conversion a la pagina antigua.\n"
   ]
  },
  {
   "cell_type": "markdown",
   "id": "e87394af",
   "metadata": {
    "lang": "es"
   },
   "source": [
    "## 3. ¿El estado convertido depende del idioma preferido?"
   ]
  },
  {
   "cell_type": "markdown",
   "id": "53216bab",
   "metadata": {
    "lang": "es"
   },
   "source": [
    "### Realizar análisis visual"
   ]
  },
  {
   "cell_type": "code",
   "execution_count": 41,
   "id": "1l_ue1yEJUHf",
   "metadata": {
    "id": "1l_ue1yEJUHf"
   },
   "outputs": [
    {
     "data": {
      "image/png": "[encoded data removed]",
      "text/plain": [
       "<Figure size 600x800 with 1 Axes>"
      ]
     },
     "metadata": {},
     "output_type": "display_data"
    }
   ],
   "source": [
    "# complete the code to visually plot the dependency between conversion status and preferred langauge\n",
    "pd.crosstab(df['converted'],df['language_preferred'],normalize='index').plot(kind=\"bar\", figsize=(6,8), stacked=True)\n",
    "plt.legend()\n",
    "plt.show()"
   ]
  },
  {
   "cell_type": "markdown",
   "id": "ef71f663",
   "metadata": {
    "lang": "es"
   },
   "source": [
    "### Paso 1: Definir las hipótesis nula y alternativa"
   ]
  },
  {
   "cell_type": "markdown",
   "id": "q86NUDAZLnbR",
   "metadata": {
    "id": "q86NUDAZLnbR"
   },
   "source": [
    "$H_0:$ la conversion a ser suscriptor no depende del idioma preferido.\n",
    "\n",
    "\n",
    "$H_a:$ la conversion a ser suscriptor depende del idioma preferido.\n",
    "\n"
   ]
  },
  {
   "cell_type": "markdown",
   "id": "d96fb5d9",
   "metadata": {
    "lang": "es"
   },
   "source": [
    "### Paso 2: Seleccione la prueba adecuada"
   ]
  },
  {
   "cell_type": "markdown",
   "id": "f17d78ca",
   "metadata": {
    "lang": "es"
   },
   "source": [
    "Este es un problema de la prueba de independencia, que concierne a dos variables categóricas: estatus convertido e idioma preferido. **Con base en esta información, se debe usar la prueba Chi cuadrada de independencia.**"
   ]
  },
  {
   "cell_type": "markdown",
   "id": "9db9337e",
   "metadata": {
    "lang": "es"
   },
   "source": [
    "### Paso 3: Decidir el nivel de significación"
   ]
  },
  {
   "cell_type": "markdown",
   "id": "cd719925",
   "metadata": {
    "lang": "es"
   },
   "source": [
    "Como se indica en el enunciado del problema, seleccionamos α = 0.05."
   ]
  },
  {
   "cell_type": "markdown",
   "id": "bbc8d3ab",
   "metadata": {
    "lang": "es"
   },
   "source": [
    "### Paso 4: recopilar y preparar datos"
   ]
  },
  {
   "cell_type": "code",
   "execution_count": 42,
   "id": "zzvjITNZJUHh",
   "metadata": {
    "id": "zzvjITNZJUHh"
   },
   "outputs": [
    {
     "data": {
      "text/html": [
       "<div>\n",
       "<style scoped>\n",
       "    .dataframe tbody tr th:only-of-type {\n",
       "        vertical-align: middle;\n",
       "    }\n",
       "\n",
       "    .dataframe tbody tr th {\n",
       "        vertical-align: top;\n",
       "    }\n",
       "\n",
       "    .dataframe thead th {\n",
       "        text-align: right;\n",
       "    }\n",
       "</style>\n",
       "<table border=\"1\" class=\"dataframe\">\n",
       "  <thead>\n",
       "    <tr style=\"text-align: right;\">\n",
       "      <th>language_preferred</th>\n",
       "      <th>English</th>\n",
       "      <th>French</th>\n",
       "      <th>Spanish</th>\n",
       "    </tr>\n",
       "    <tr>\n",
       "      <th>converted</th>\n",
       "      <th></th>\n",
       "      <th></th>\n",
       "      <th></th>\n",
       "    </tr>\n",
       "  </thead>\n",
       "  <tbody>\n",
       "    <tr>\n",
       "      <th>no</th>\n",
       "      <td>11</td>\n",
       "      <td>19</td>\n",
       "      <td>16</td>\n",
       "    </tr>\n",
       "    <tr>\n",
       "      <th>yes</th>\n",
       "      <td>21</td>\n",
       "      <td>15</td>\n",
       "      <td>18</td>\n",
       "    </tr>\n",
       "  </tbody>\n",
       "</table>\n",
       "</div>"
      ],
      "text/plain": [
       "language_preferred  English  French  Spanish\n",
       "converted                                   \n",
       "no                       11      19       16\n",
       "yes                      21      15       18"
      ]
     },
     "execution_count": 42,
     "metadata": {},
     "output_type": "execute_result"
    }
   ],
   "source": [
    "# complete the code to create a contingency table showing the distribution of the two categorical variables\n",
    "contingency_table = pd.crosstab(df['converted'], df['language_preferred'])  \n",
    "\n",
    "contingency_table"
   ]
  },
  {
   "cell_type": "markdown",
   "id": "66afb40d",
   "metadata": {
    "lang": "es"
   },
   "source": [
    "### Paso 5: Calcular el valor p"
   ]
  },
  {
   "cell_type": "code",
   "execution_count": 43,
   "id": "5T87wmlEJUHh",
   "metadata": {
    "id": "5T87wmlEJUHh"
   },
   "outputs": [
    {
     "name": "stdout",
     "output_type": "stream",
     "text": [
      "The p-value is 0.21298887487543447\n"
     ]
    }
   ],
   "source": [
    "# complete the code to import the required function\n",
    "from scipy.stats import chi2_contingency  \n",
    "\n",
    "# write the code to calculate the p-value\n",
    "chi2, p_value, dof, exp_freq = chi2_contingency(contingency_table)  \n",
    "\n",
    "print('The p-value is', p_value)"
   ]
  },
  {
   "cell_type": "markdown",
   "id": "73fd04ed",
   "metadata": {
    "lang": "es"
   },
   "source": [
    "### Paso 6: Compare el valor p con $\\alpha$"
   ]
  },
  {
   "cell_type": "code",
   "execution_count": 44,
   "id": "z4i5F7TTJUHh",
   "metadata": {
    "id": "z4i5F7TTJUHh"
   },
   "outputs": [
    {
     "name": "stdout",
     "output_type": "stream",
     "text": [
      "As the p-value 0.21298887487543447 es mayor que la significancia, No se rechaza la hipotesis nula.\n"
     ]
    }
   ],
   "source": [
    "# print the conclusion based on p-value\n",
    "if p_value < 0.05:\n",
    "    print(f'Como el valor P {p_value} es menor que la significancia, se rechaza la hipotesis nula.')\n",
    "else:\n",
    "    print(f'As the p-value {p_value} es mayor que la significancia, No se rechaza la hipotesis nula.')"
   ]
  },
  {
   "cell_type": "markdown",
   "id": "b4b510d3",
   "metadata": {
    "lang": "es"
   },
   "source": [
    "### Paso 7: Extraer inferencia"
   ]
  },
  {
   "cell_type": "markdown",
   "id": "nWL_M80mJUHi",
   "metadata": {
    "id": "nWL_M80mJUHi"
   },
   "source": [
    "Dado que el valor p es mayor que el nivel de significancia del 5%, existe suficiente evidencia estadistica para decir que el factor de conversion a ser sucriptor no depende del usuario.\n"
   ]
  },
  {
   "cell_type": "markdown",
   "id": "bc73dbfd",
   "metadata": {
    "lang": "es"
   },
   "source": [
    "## 4. ¿El tiempo dedicado a la nueva página es el mismo para los usuarios de diferentes idiomas?"
   ]
  },
  {
   "cell_type": "markdown",
   "id": "eb704cb9",
   "metadata": {
    "lang": "es"
   },
   "source": [
    "### Realizar análisis visual"
   ]
  },
  {
   "cell_type": "code",
   "execution_count": 45,
   "id": "c8f1e4d4",
   "metadata": {
    "id": "c8f1e4d4"
   },
   "outputs": [],
   "source": [
    "# create a new DataFrame for users who got served the new page\n",
    "df_new = df[df['landing_page'] == 'new']"
   ]
  },
  {
   "cell_type": "code",
   "execution_count": 46,
   "id": "juWwwrwzKmOa",
   "metadata": {
    "id": "juWwwrwzKmOa"
   },
   "outputs": [
    {
     "data": {
      "image/png": "[encoded data removed]",
      "text/plain": [
       "<Figure size 800x800 with 1 Axes>"
      ]
     },
     "metadata": {},
     "output_type": "display_data"
    }
   ],
   "source": [
    "# complete the code to visually plot the time spent on the new page for different language users\n",
    "plt.figure(figsize=(8,8))\n",
    "sns.boxplot(x = 'language_preferred', y = 'time_spent_on_the_page', showmeans = True, data = df_new)\n",
    "plt.show()"
   ]
  },
  {
   "cell_type": "code",
   "execution_count": 47,
   "id": "9vqA04lsK_aZ",
   "metadata": {
    "id": "9vqA04lsK_aZ"
   },
   "outputs": [
    {
     "data": {
      "text/plain": [
       "language_preferred\n",
       "English    6.663750\n",
       "French     6.196471\n",
       "Spanish    5.835294\n",
       "Name: time_spent_on_the_page, dtype: float64"
      ]
     },
     "execution_count": 47,
     "metadata": {},
     "output_type": "execute_result"
    }
   ],
   "source": [
    "# complete the code to calculate the mean time spent on the new page for different language users\n",
    "df_new.groupby(['language_preferred'])['time_spent_on_the_page'].mean()\n"
   ]
  },
  {
   "cell_type": "markdown",
   "id": "7432fb5d",
   "metadata": {
    "lang": "es"
   },
   "source": [
    "### Paso 1: Definir las hipótesis nula y alternativa"
   ]
  },
  {
   "cell_type": "markdown",
   "id": "gz8FnmCvMio1",
   "metadata": {
    "id": "gz8FnmCvMio1"
   },
   "source": [
    "$H_0:$ Los tiempos medios de uso de las paginas son iguales para los 3 idiomas.\n",
    "\n",
    "$H_a:$ Los tiempos medios de uso de las paginas no son iguales para los 3 idiomas.\n",
    "\n"
   ]
  },
  {
   "cell_type": "markdown",
   "id": "9f211779",
   "metadata": {
    "lang": "es"
   },
   "source": [
    "### Paso 2: Seleccione la prueba adecuada"
   ]
  },
  {
   "cell_type": "markdown",
   "id": "68b09093",
   "metadata": {
    "lang": "es"
   },
   "source": [
    "Este es un problema relacionado con tres medias de población. **Con base en esta información, podemos usar la Prueba Anova unidireccional validando normalidad y varianza.**"
   ]
  },
  {
   "cell_type": "markdown",
   "id": "7419776c",
   "metadata": {},
   "source": [
    "### a. Prueba de Shapiro-Wilk"
   ]
  },
  {
   "cell_type": "markdown",
   "id": "93bcf5a7",
   "metadata": {},
   "source": [
    "hipótesis nula\n",
    "\n",
    "$H\n",
    "0\n",
    ":\n",
    " $ El tiempo de uso en la nueva pagina tiene distribución normal\n",
    "\n",
    "hipótesis alternativa\n",
    "\n",
    "$H\n",
    "a\n",
    ":\n",
    " $ El tiempo de uso en la nueva pagina tiene distribución normal"
   ]
  },
  {
   "cell_type": "code",
   "execution_count": 48,
   "id": "8508d43c",
   "metadata": {},
   "outputs": [
    {
     "name": "stdout",
     "output_type": "stream",
     "text": [
      "The p-value is 0.8040016293525696\n"
     ]
    }
   ],
   "source": [
    "#Import library\n",
    "from scipy.stats import shapiro\n",
    "\n",
    "# find the p-value\n",
    "w, p_value = shapiro(df_new['time_spent_on_the_page']) \n",
    "print('The p-value is', p_value)"
   ]
  },
  {
   "cell_type": "markdown",
   "id": "260cc208",
   "metadata": {},
   "source": [
    "No se rechaza hiptesis nula debido a que es mayor al nivel de significacia y se concluye con evidencia estadistica que el tiempo de uso en la nueva pagina tiene distribución normal."
   ]
  },
  {
   "cell_type": "markdown",
   "id": "5b4c7b78",
   "metadata": {},
   "source": [
    "### b. Prueba de Levene"
   ]
  },
  {
   "cell_type": "markdown",
   "id": "85dec007",
   "metadata": {},
   "source": [
    "hipótesis nula\n",
    "\n",
    "$H\n",
    "0\n",
    ":$ Las varianzas poblacionales son iguales\n",
    "\n",
    "hipótesis alternativa\n",
    "\n",
    "$H\n",
    "a\n",
    ":$ Al menos una varianza es diferente del resto"
   ]
  },
  {
   "cell_type": "code",
   "execution_count": 49,
   "id": "89584078",
   "metadata": {},
   "outputs": [
    {
     "name": "stdout",
     "output_type": "stream",
     "text": [
      "The p-value is 0.46711357711340173\n"
     ]
    }
   ],
   "source": [
    "from scipy.stats import levene\n",
    "statistic, p_value = levene( df_new[df_new['language_preferred']==\"English\"]['time_spent_on_the_page'], \n",
    "                             df_new[df_new['language_preferred']==\"French\"]['time_spent_on_the_page'], \n",
    "                             df_new[df_new['language_preferred']==\"Spanish\"]['time_spent_on_the_page'])\n",
    "# find the p-value\n",
    "print('The p-value is', p_value)"
   ]
  },
  {
   "cell_type": "markdown",
   "id": "134076dc",
   "metadata": {},
   "source": [
    "El valor P es mayor al nivel de significancia no podemos rechazar la hipotesis nula, existe evidencia estadistica que las varianzas son iguales."
   ]
  },
  {
   "cell_type": "markdown",
   "id": "8d834cce",
   "metadata": {
    "lang": "es"
   },
   "source": [
    "### Paso 3: Decidir el nivel de significancia"
   ]
  },
  {
   "cell_type": "markdown",
   "id": "7831662a",
   "metadata": {
    "lang": "es"
   },
   "source": [
    "Como se indica en el enunciado del problema, seleccionamos α = 0.05."
   ]
  },
  {
   "cell_type": "markdown",
   "id": "6d8d4b7d",
   "metadata": {
    "lang": "es"
   },
   "source": [
    "### Paso 4: recopilar y preparar datos"
   ]
  },
  {
   "cell_type": "code",
   "execution_count": 50,
   "id": "XThNwfviKmOd",
   "metadata": {
    "id": "XThNwfviKmOd"
   },
   "outputs": [],
   "source": [
    "# create a subsetted data frame of the time spent on the new page by English language users \n",
    "time_spent_English = df_new[df_new['language_preferred']==\"English\"]['time_spent_on_the_page']\n",
    "# create subsetted data frames of the time spent on the new page by French and Spanish language users\n",
    "time_spent_French = df_new[df_new['language_preferred']=='French']['time_spent_on_the_page']   \n",
    "time_spent_Spanish = df_new[df_new['language_preferred']=='Spanish']['time_spent_on_the_page']"
   ]
  },
  {
   "cell_type": "markdown",
   "id": "00d91540",
   "metadata": {
    "lang": "es"
   },
   "source": [
    "### Paso 5: Calcular el valor p"
   ]
  },
  {
   "cell_type": "code",
   "execution_count": 51,
   "id": "D_jngM0gKmOd",
   "metadata": {
    "id": "D_jngM0gKmOd"
   },
   "outputs": [
    {
     "name": "stdout",
     "output_type": "stream",
     "text": [
      "The p-value is 0.43204138694325955\n"
     ]
    }
   ],
   "source": [
    "# complete the code to import the required function\n",
    "from scipy.stats import f_oneway \n",
    "\n",
    "# write the code to calculate the p-value\n",
    "test_stat, p_value = f_oneway(time_spent_English, time_spent_French, time_spent_Spanish)   #complete the code by filling appropriate parameters in the blanks\n",
    "\n",
    "print('The p-value is', p_value)"
   ]
  },
  {
   "cell_type": "markdown",
   "id": "2a4cd0c2",
   "metadata": {
    "lang": "es"
   },
   "source": [
    "### Paso 6: Compare el valor p con $\\alpha$"
   ]
  },
  {
   "cell_type": "code",
   "execution_count": 52,
   "id": "Ep85AInOKmOe",
   "metadata": {
    "id": "Ep85AInOKmOe"
   },
   "outputs": [
    {
     "name": "stdout",
     "output_type": "stream",
     "text": [
      "Dado que el Valor P 0.43204138694325955 es mayor que el nivel de significancia, se no rechaza la hipotesis nula.\n"
     ]
    }
   ],
   "source": [
    "# print the conclusion based on p-value\n",
    "if p_value < 0.05:\n",
    "    print(f'Dado que el Valor P {p_value} es menor que el nivel de significancia, se rechaza la hipotesis nula.')\n",
    "else:\n",
    "    print(f'Dado que el Valor P {p_value} es mayor que el nivel de significancia, se no rechaza la hipotesis nula.')"
   ]
  },
  {
   "cell_type": "markdown",
   "id": "f322e58b",
   "metadata": {
    "lang": "es"
   },
   "source": [
    "### Paso 7: Extraer inferencia"
   ]
  },
  {
   "cell_type": "markdown",
   "id": "i24loRuKKmOf",
   "metadata": {
    "id": "i24loRuKKmOf"
   },
   "source": [
    "Dado que el valor p de la prueba es mayor al nivel de significancia, existe evidencia estadistica para decir que los tiempos medios tienen mayor diferencia relacionados a el idioma.\n",
    "\n"
   ]
  },
  {
   "cell_type": "markdown",
   "id": "c113f6d9",
   "metadata": {
    "lang": "es"
   },
   "source": [
    "## Conclusión y recomendaciones comerciales"
   ]
  },
  {
   "cell_type": "markdown",
   "id": "ckDGNsMNT2On",
   "metadata": {
    "id": "ckDGNsMNT2On",
    "lang": "en"
   },
   "source": [
    "#### 1. Tiempo medio de interacción con la nueva página\n",
    "Conclusión:\n",
    "Dado que el valor p es 0.000139, mucho menor que el nivel de significancia de 0.05, se rechaza la hipótesis nula. Esto indica que el tiempo medio de interacción con la nueva página es significativamente mayor al tiempo medio de interacción con la página antigua.\n",
    "\n",
    "$Recomendación$:\n",
    "Se debe implementar la nueva página de manera definitiva, ya que demuestra una mejora significativa en el tiempo de interacción de los usuarios, lo cual puede indicar un mayor compromiso y potencialmente mejores resultados comerciales.\n",
    "\n",
    "#### 2. Tasa de conversión de la página nueva\n",
    "Conclusión:\n",
    "El valor p de 0.008026 es menor que el nivel de significancia de 0.05, lo que permite rechazar la hipótesis nula. Esto sugiere que la tasa de conversión de la nueva página es significativamente mayor que la de la página anterior.\n",
    "\n",
    "$Recomendación$:\n",
    "Además de implementar la nueva página, se debe investigar más a fondo qué elementos específicos de la nueva página están contribuyendo al aumento en la tasa de conversión. Esto permitirá optimizar aún más las futuras versiones del sitio.\n",
    "\n",
    "#### 3. Dependencia entre la conversión y el idioma preferido\n",
    "Conclusión:\n",
    "El valor p de 0.212988 es mayor que el nivel de significancia de 0.05, por lo que no se rechaza la hipótesis nula. Esto sugiere que la conversión no depende significativamente del idioma preferido.\n",
    "\n",
    "$Recomendación$:\n",
    "Aunque la conversión no parece depender del idioma, es importante seguir monitoreando esta variable para detectar posibles cambios en el comportamiento de los usuarios multilingües. Además, se puede explorar si otros factores, como el contenido específico del idioma, pueden influir en la conversión.\n",
    "\n",
    "#### 4. Tiempo dedicado a la nueva página según el idioma\n",
    "Conclusión:\n",
    "El valor p de 0.432041 es mayor que el nivel de significancia de 0.05, lo que indica que no hay diferencias significativas en el tiempo medio de uso de la página nueva entre los diferentes idiomas.\n",
    "\n",
    "$Recomendación$:\n",
    "Dado que no hay diferencias significativas en el tiempo de uso entre los diferentes idiomas, se puede concluir que la nueva página es igualmente efectiva para usuarios de todos los idiomas. Sin embargo, es recomendable realizar análisis adicionales para explorar si hay otros factores que puedan influir en el tiempo de uso y mejorar la experiencia del usuario en función del idioma.\n",
    "\n",
    "#### Resumen de Recomendaciones Generales:\n",
    "Implementación definitiva de la nueva página debido a los beneficios observados en el tiempo de interacción y la tasa de conversión.\n",
    "Investigación adicional sobre los elementos de la nueva página que contribuyen al aumento en la tasa de conversión.\n",
    "Monitoreo continuo de las tasas de conversión por idioma y análisis de otros factores que puedan influir en estas métricas.\n",
    "Análisis adicional para optimizar la experiencia del usuario según el idioma, aunque actualmente no se observen diferencias significativas.\n",
    "Estas conclusiones y recomendaciones están basadas en un análisis estadístico robusto y deberían ayudar a guiar futuras decisiones estratégicas para mejorar la interacción y conversión en el sitio web."
   ]
  },
  {
   "cell_type": "markdown",
   "id": "LePUSkNSx8ML",
   "metadata": {
    "id": "LePUSkNSx8ML"
   },
   "source": [
    "___"
   ]
  }
 ],
 "metadata": {
  "colab": {
   "collapsed_sections": [],
   "name": "ENews_Express_Learner_Notebook_Low_Code v1.1.ipynb",
   "provenance": []
  },
  "kernelspec": {
   "display_name": "Python 3 (ipykernel)",
   "language": "python",
   "name": "python3"
  },
  "language_info": {
   "codemirror_mode": {
    "name": "ipython",
    "version": 3
   },
   "file_extension": ".py",
   "mimetype": "text/x-python",
   "name": "python",
   "nbconvert_exporter": "python",
   "pygments_lexer": "ipython3",
   "version": "3.11.5"
  },
  "nbTranslate": {
   "displayLangs": [
    "es"
   ],
   "hotkey": "alt-t",
   "langInMainMenu": true,
   "sourceLang": "en",
   "targetLang": "es",
   "useGoogleTranslate": true
  }
 },
 "nbformat": 4,
 "nbformat_minor": 5
}
